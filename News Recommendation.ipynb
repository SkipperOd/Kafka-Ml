{
 "cells": [
  {
   "cell_type": "code",
   "execution_count": 1,
   "metadata": {},
   "outputs": [],
   "source": [
    "import pandas as pd\n",
    "from nltk.corpus import stopwords\n",
    "import warnings\n",
    "pd.set_option('display.max_colwidth', 100)\n",
    "warnings.filterwarnings('ignore')\n",
    "\n",
    "from sklearn.feature_extraction.text import CountVectorizer\n",
    "from sklearn.feature_extraction.text import HashingVectorizer\n",
    "from sklearn.feature_extraction.text import TfidfVectorizer\n",
    "from sklearn.metrics.pairwise import cosine_similarity"
   ]
  },
  {
   "cell_type": "code",
   "execution_count": 2,
   "metadata": {},
   "outputs": [],
   "source": [
    "corpus = ['The cat got chased by dog',\n",
    "         'The cat jumped on a tree',\n",
    "         'The dog kept barking at the door']"
   ]
  },
  {
   "cell_type": "markdown",
   "metadata": {},
   "source": [
    "### Count Vectorizer"
   ]
  },
  {
   "cell_type": "code",
   "execution_count": 3,
   "metadata": {},
   "outputs": [],
   "source": [
    "count_vec = CountVectorizer().fit(corpus)\n",
    "bag_of_words = count_vec.transform(corpus)"
   ]
  },
  {
   "cell_type": "code",
   "execution_count": 4,
   "metadata": {},
   "outputs": [
    {
     "data": {
      "text/plain": [
       "dict_keys(['the', 'cat', 'got', 'chased', 'by', 'dog', 'jumped', 'on', 'tree', 'kept', 'barking', 'at', 'door'])"
      ]
     },
     "execution_count": 4,
     "metadata": {},
     "output_type": "execute_result"
    }
   ],
   "source": [
    "count_vec.vocabulary_.keys()"
   ]
  },
  {
   "cell_type": "code",
   "execution_count": 5,
   "metadata": {},
   "outputs": [
    {
     "name": "stdout",
     "output_type": "stream",
     "text": [
      "['at', 'barking', 'by', 'cat', 'chased', 'dog', 'door', 'got', 'jumped', 'kept', 'on', 'the', 'tree']\n"
     ]
    }
   ],
   "source": [
    "dictionary_inverted = {v: k for k, v in count_vec.vocabulary_.items()}\n",
    "vocab = []\n",
    "for i in sorted (dictionary_inverted.keys()):  \n",
    "     vocab.append(dictionary_inverted[i])\n",
    "print(vocab)"
   ]
  },
  {
   "cell_type": "code",
   "execution_count": 6,
   "metadata": {},
   "outputs": [
    {
     "data": {
      "text/plain": [
       "array([[0, 0, 1, 1, 1, 1, 0, 1, 0, 0, 0, 1, 0],\n",
       "       [0, 0, 0, 1, 0, 0, 0, 0, 1, 0, 1, 1, 1],\n",
       "       [1, 1, 0, 0, 0, 1, 1, 0, 0, 1, 0, 2, 0]], dtype=int64)"
      ]
     },
     "execution_count": 6,
     "metadata": {},
     "output_type": "execute_result"
    }
   ],
   "source": [
    "bag_of_words.toarray()"
   ]
  },
  {
   "cell_type": "markdown",
   "metadata": {},
   "source": [
    "## N-Grams"
   ]
  },
  {
   "cell_type": "code",
   "execution_count": 7,
   "metadata": {},
   "outputs": [],
   "source": [
    "count_vec = CountVectorizer(ngram_range=(1,2)).fit(corpus)\n",
    "bag_of_words = count_vec.transform(corpus)"
   ]
  },
  {
   "cell_type": "code",
   "execution_count": 8,
   "metadata": {},
   "outputs": [
    {
     "data": {
      "text/plain": [
       "dict_keys(['the', 'cat', 'got', 'chased', 'by', 'dog', 'the cat', 'cat got', 'got chased', 'chased by', 'by dog', 'jumped', 'on', 'tree', 'cat jumped', 'jumped on', 'on tree', 'kept', 'barking', 'at', 'door', 'the dog', 'dog kept', 'kept barking', 'barking at', 'at the', 'the door'])"
      ]
     },
     "execution_count": 8,
     "metadata": {},
     "output_type": "execute_result"
    }
   ],
   "source": [
    "count_vec.vocabulary_.keys()"
   ]
  },
  {
   "cell_type": "code",
   "execution_count": 9,
   "metadata": {},
   "outputs": [
    {
     "name": "stdout",
     "output_type": "stream",
     "text": [
      "['at', 'at the', 'barking', 'barking at', 'by', 'by dog', 'cat', 'cat got', 'cat jumped', 'chased', 'chased by', 'dog', 'dog kept', 'door', 'got', 'got chased', 'jumped', 'jumped on', 'kept', 'kept barking', 'on', 'on tree', 'the', 'the cat', 'the dog', 'the door', 'tree']\n"
     ]
    }
   ],
   "source": [
    "dictionary_inverted = {v: k for k, v in count_vec.vocabulary_.items()}\n",
    "vocab = []\n",
    "for i in sorted (dictionary_inverted.keys()):  \n",
    "     vocab.append(dictionary_inverted[i])\n",
    "print(vocab)"
   ]
  },
  {
   "cell_type": "markdown",
   "metadata": {},
   "source": [
    "### TF-IDF"
   ]
  },
  {
   "cell_type": "code",
   "execution_count": 10,
   "metadata": {},
   "outputs": [],
   "source": [
    "tfidf_vec = TfidfVectorizer().fit(corpus)\n",
    "bag_of_words = tfidf_vec.transform(corpus)"
   ]
  },
  {
   "cell_type": "code",
   "execution_count": 11,
   "metadata": {},
   "outputs": [
    {
     "name": "stdout",
     "output_type": "stream",
     "text": [
      "['at', 'at the', 'barking', 'barking at', 'by', 'by dog', 'cat', 'cat got', 'cat jumped', 'chased', 'chased by', 'dog', 'dog kept', 'door', 'got', 'got chased', 'jumped', 'jumped on', 'kept', 'kept barking', 'on', 'on tree', 'the', 'the cat', 'the dog', 'the door', 'tree']\n"
     ]
    }
   ],
   "source": [
    "dictionary_inverted = {v: k for k, v in count_vec.vocabulary_.items()}\n",
    "vocab = []\n",
    "for i in sorted (dictionary_inverted.keys()):  \n",
    "     vocab.append(dictionary_inverted[i])\n",
    "print(vocab)"
   ]
  },
  {
   "cell_type": "code",
   "execution_count": 12,
   "metadata": {},
   "outputs": [
    {
     "data": {
      "text/plain": [
       "array([[0.        , 0.        , 0.4711101 , 0.35829137, 0.4711101 ,\n",
       "        0.35829137, 0.        , 0.4711101 , 0.        , 0.        ,\n",
       "        0.        , 0.27824521, 0.        ],\n",
       "       [0.        , 0.        , 0.        , 0.38376993, 0.        ,\n",
       "        0.        , 0.        , 0.        , 0.50461134, 0.        ,\n",
       "        0.50461134, 0.29803159, 0.50461134],\n",
       "       [0.40914568, 0.40914568, 0.        , 0.        , 0.        ,\n",
       "        0.31116583, 0.40914568, 0.        , 0.        , 0.40914568,\n",
       "        0.        , 0.48329606, 0.        ]])"
      ]
     },
     "execution_count": 12,
     "metadata": {},
     "output_type": "execute_result"
    }
   ],
   "source": [
    "bag_of_words.toarray()"
   ]
  },
  {
   "cell_type": "markdown",
   "metadata": {},
   "source": [
    "### Hashing Trick"
   ]
  },
  {
   "cell_type": "code",
   "execution_count": 13,
   "metadata": {},
   "outputs": [],
   "source": [
    "hashvectorizer = HashingVectorizer(n_features=2**4)\n",
    "hashvector = hashvectorizer.fit_transform(corpus)"
   ]
  },
  {
   "cell_type": "code",
   "execution_count": 14,
   "metadata": {},
   "outputs": [
    {
     "data": {
      "text/plain": [
       "array([[ 0.        ,  0.        ,  0.        ,  0.        ,  0.        ,\n",
       "        -0.40824829,  0.        ,  0.40824829,  0.        , -0.40824829,\n",
       "         0.        ,  0.40824829,  0.        ,  0.40824829, -0.40824829,\n",
       "         0.        ],\n",
       "       [ 0.        ,  0.57735027,  0.        ,  0.        ,  0.        ,\n",
       "         0.57735027,  0.        ,  0.        ,  0.        ,  0.        ,\n",
       "         0.        ,  0.        ,  0.        ,  0.        , -0.57735027,\n",
       "         0.        ],\n",
       "       [ 0.33333333,  0.        ,  0.        ,  0.        ,  0.        ,\n",
       "        -0.33333333,  0.        , -0.33333333,  0.        ,  0.        ,\n",
       "         0.        ,  0.        ,  0.        , -0.33333333, -0.66666667,\n",
       "        -0.33333333]])"
      ]
     },
     "execution_count": 14,
     "metadata": {},
     "output_type": "execute_result"
    }
   ],
   "source": [
    "hashvector.toarray()"
   ]
  },
  {
   "cell_type": "markdown",
   "metadata": {},
   "source": [
    "### News Recommendation"
   ]
  },
  {
   "cell_type": "code",
   "execution_count": 15,
   "metadata": {},
   "outputs": [
    {
     "data": {
      "text/html": [
       "<div>\n",
       "<style scoped>\n",
       "    .dataframe tbody tr th:only-of-type {\n",
       "        vertical-align: middle;\n",
       "    }\n",
       "\n",
       "    .dataframe tbody tr th {\n",
       "        vertical-align: top;\n",
       "    }\n",
       "\n",
       "    .dataframe thead th {\n",
       "        text-align: right;\n",
       "    }\n",
       "</style>\n",
       "<table border=\"1\" class=\"dataframe\">\n",
       "  <thead>\n",
       "    <tr style=\"text-align: right;\">\n",
       "      <th></th>\n",
       "      <th>KeyDoc</th>\n",
       "      <th>Article</th>\n",
       "      <th>ArticlePlainText</th>\n",
       "      <th>ArticlePostDate</th>\n",
       "      <th>Headline</th>\n",
       "      <th>KeyArticle</th>\n",
       "      <th>KeyInstn</th>\n",
       "      <th>BogusNewsCodeText</th>\n",
       "      <th>IndustryShortName</th>\n",
       "    </tr>\n",
       "  </thead>\n",
       "  <tbody>\n",
       "    <tr>\n",
       "      <th>0</th>\n",
       "      <td>517795</td>\n",
       "      <td>StartHTML:0000000088 EndHTML:0000004765 StartFragment:0000000181 EndFragment:0000004745 &lt;html&gt; &lt;...</td>\n",
       "      <td>The cover of Friday's Wall Street Journal had a story on the emerging bear market in the NASDAQ ...</td>\n",
       "      <td>2019-05-23 12:54:00</td>\n",
       "      <td>Bad Day!</td>\n",
       "      <td>517795.0</td>\n",
       "      <td>NaN</td>\n",
       "      <td>Industry News</td>\n",
       "      <td>Financials</td>\n",
       "    </tr>\n",
       "    <tr>\n",
       "      <th>1</th>\n",
       "      <td>519985</td>\n",
       "      <td>Version:0.9  StartHTML:0000000105  EndHTML:0000001479  StartFragment:0000000341  EndFragment:000...</td>\n",
       "      <td>Peoples Heritage Finl Group($13.8B), Portland, ME, has received Fed approval to acquire Banknort...</td>\n",
       "      <td>2019-05-23 01:06:00</td>\n",
       "      <td>Peoples Heritage Gets Fed Okay For BankNorth Buy</td>\n",
       "      <td>519985.0</td>\n",
       "      <td>1022029.0</td>\n",
       "      <td>Mergers &amp; Acquisitions: Approvals</td>\n",
       "      <td>Bank</td>\n",
       "    </tr>\n",
       "  </tbody>\n",
       "</table>\n",
       "</div>"
      ],
      "text/plain": [
       "   KeyDoc  \\\n",
       "0  517795   \n",
       "1  519985   \n",
       "\n",
       "                                                                                               Article  \\\n",
       "0  StartHTML:0000000088 EndHTML:0000004765 StartFragment:0000000181 EndFragment:0000004745 <html> <...   \n",
       "1  Version:0.9  StartHTML:0000000105  EndHTML:0000001479  StartFragment:0000000341  EndFragment:000...   \n",
       "\n",
       "                                                                                      ArticlePlainText  \\\n",
       "0  The cover of Friday's Wall Street Journal had a story on the emerging bear market in the NASDAQ ...   \n",
       "1  Peoples Heritage Finl Group($13.8B), Portland, ME, has received Fed approval to acquire Banknort...   \n",
       "\n",
       "      ArticlePostDate                                          Headline  \\\n",
       "0 2019-05-23 12:54:00                                          Bad Day!   \n",
       "1 2019-05-23 01:06:00  Peoples Heritage Gets Fed Okay For BankNorth Buy   \n",
       "\n",
       "   KeyArticle   KeyInstn                  BogusNewsCodeText IndustryShortName  \n",
       "0    517795.0        NaN                      Industry News        Financials  \n",
       "1    519985.0  1022029.0  Mergers & Acquisitions: Approvals              Bank  "
      ]
     },
     "execution_count": 15,
     "metadata": {},
     "output_type": "execute_result"
    }
   ],
   "source": [
    "df = pd.read_excel('news.xlsx')\n",
    "df.head(2)"
   ]
  },
  {
   "cell_type": "code",
   "execution_count": 16,
   "metadata": {},
   "outputs": [],
   "source": [
    "df.set_index('Headline', inplace = True)"
   ]
  },
  {
   "cell_type": "code",
   "execution_count": 17,
   "metadata": {},
   "outputs": [],
   "source": [
    "def train():\n",
    "    \n",
    "    #TF-IDF with n-gram range 1-3 and removing stop words. Document frequency cutoff\n",
    "    tf = TfidfVectorizer(analyzer='word', ngram_range=(1, 3), min_df=0, stop_words='english')\n",
    "\n",
    "    tfidf_matrix = tf.fit_transform(df['ArticlePlainText'])\n",
    "\n",
    "    #Building a cosine similarity matrix\n",
    "    cosine_similarities = cosine_similarity(tfidf_matrix, tfidf_matrix)\n",
    "    \n",
    "    return cosine_similarities"
   ]
  },
  {
   "cell_type": "code",
   "execution_count": 18,
   "metadata": {},
   "outputs": [],
   "source": [
    "def recommendations(headline, model, top_n=10):\n",
    "    \n",
    "    recommended_news = []\n",
    "    \n",
    "    indices = pd.Series(df.index)\n",
    "    \n",
    "    # gettin the index of the news that matches the name\n",
    "    idx = indices[indices == headline].index[0]\n",
    "\n",
    "    # creating a Series with the similarity scores in descending order\n",
    "    score_series = pd.Series(model[idx]).sort_values(ascending = False)\n",
    "\n",
    "    # getting the indexes of the 10 most similar news except itself\n",
    "    top_10_indexes = list(score_series.iloc[1:11].index)\n",
    "    \n",
    "    # populating the list with the names of the top 10 matching news\n",
    "    for i in top_10_indexes:\n",
    "        recommended_news.append([df.ix[i, 'ArticlePostDate'].date(), list(df.index)[i]])\n",
    "        \n",
    "    return pd.DataFrame(recommended_news, columns=['Date', 'Headline'])"
   ]
  },
  {
   "cell_type": "code",
   "execution_count": 19,
   "metadata": {
    "scrolled": true
   },
   "outputs": [
    {
     "data": {
      "text/html": [
       "<div>\n",
       "<style scoped>\n",
       "    .dataframe tbody tr th:only-of-type {\n",
       "        vertical-align: middle;\n",
       "    }\n",
       "\n",
       "    .dataframe tbody tr th {\n",
       "        vertical-align: top;\n",
       "    }\n",
       "\n",
       "    .dataframe thead th {\n",
       "        text-align: right;\n",
       "    }\n",
       "</style>\n",
       "<table border=\"1\" class=\"dataframe\">\n",
       "  <thead>\n",
       "    <tr style=\"text-align: right;\">\n",
       "      <th></th>\n",
       "      <th>Date</th>\n",
       "      <th>Headline</th>\n",
       "    </tr>\n",
       "  </thead>\n",
       "  <tbody>\n",
       "    <tr>\n",
       "      <th>0</th>\n",
       "      <td>2019-05-23</td>\n",
       "      <td>Whitney Holding Corp. Buying Prattville Financial for $40.5M</td>\n",
       "    </tr>\n",
       "    <tr>\n",
       "      <th>1</th>\n",
       "      <td>2019-09-25</td>\n",
       "      <td>Whitney Buying Privately Held First Ascension for $22.1M in Stock</td>\n",
       "    </tr>\n",
       "    <tr>\n",
       "      <th>2</th>\n",
       "      <td>2021-12-02</td>\n",
       "      <td>Whitney completes $22.1M First Ascension purchase</td>\n",
       "    </tr>\n",
       "    <tr>\n",
       "      <th>3</th>\n",
       "      <td>2020-02-05</td>\n",
       "      <td>FNB Corp. Buying First Union Branches in Southwest Virginia</td>\n",
       "    </tr>\n",
       "    <tr>\n",
       "      <th>4</th>\n",
       "      <td>2019-10-11</td>\n",
       "      <td>Compass Buying FirsTier Corp. for $127M in Stock</td>\n",
       "    </tr>\n",
       "    <tr>\n",
       "      <th>5</th>\n",
       "      <td>2020-12-29</td>\n",
       "      <td>Whitney Earnings Up 5% in 3Q at $17.1M</td>\n",
       "    </tr>\n",
       "    <tr>\n",
       "      <th>6</th>\n",
       "      <td>2019-05-21</td>\n",
       "      <td>Allegiant to Buy Equality for $27.17M in Stock</td>\n",
       "    </tr>\n",
       "    <tr>\n",
       "      <th>7</th>\n",
       "      <td>2019-10-08</td>\n",
       "      <td>BB&amp;T Buying FirstSpartan Financial Corp. in $103.9M Stock Swap</td>\n",
       "    </tr>\n",
       "    <tr>\n",
       "      <th>8</th>\n",
       "      <td>2020-12-20</td>\n",
       "      <td>Expected Earnings Releases for Oct. 12</td>\n",
       "    </tr>\n",
       "    <tr>\n",
       "      <th>9</th>\n",
       "      <td>2020-05-08</td>\n",
       "      <td>Capital City Bank Group Agrees to Acquire First Bankshares of West Point</td>\n",
       "    </tr>\n",
       "  </tbody>\n",
       "</table>\n",
       "</div>"
      ],
      "text/plain": [
       "         Date  \\\n",
       "0  2019-05-23   \n",
       "1  2019-09-25   \n",
       "2  2021-12-02   \n",
       "3  2020-02-05   \n",
       "4  2019-10-11   \n",
       "5  2020-12-29   \n",
       "6  2019-05-21   \n",
       "7  2019-10-08   \n",
       "8  2020-12-20   \n",
       "9  2020-05-08   \n",
       "\n",
       "                                                                   Headline  \n",
       "0              Whitney Holding Corp. Buying Prattville Financial for $40.5M  \n",
       "1         Whitney Buying Privately Held First Ascension for $22.1M in Stock  \n",
       "2                         Whitney completes $22.1M First Ascension purchase  \n",
       "3               FNB Corp. Buying First Union Branches in Southwest Virginia  \n",
       "4                          Compass Buying FirsTier Corp. for $127M in Stock  \n",
       "5                                    Whitney Earnings Up 5% in 3Q at $17.1M  \n",
       "6                            Allegiant to Buy Equality for $27.17M in Stock  \n",
       "7            BB&T Buying FirstSpartan Financial Corp. in $103.9M Stock Swap  \n",
       "8                                    Expected Earnings Releases for Oct. 12  \n",
       "9  Capital City Bank Group Agrees to Acquire First Bankshares of West Point  "
      ]
     },
     "execution_count": 19,
     "metadata": {},
     "output_type": "execute_result"
    }
   ],
   "source": [
    "model = train()\n",
    "df_rec = recommendations('Whitney Holding Buying American Bank in Houston', model)\n",
    "df_rec.head(10)"
   ]
  },
  {
   "cell_type": "code",
   "execution_count": 20,
   "metadata": {},
   "outputs": [
    {
     "data": {
      "text/html": [
       "<div>\n",
       "<style scoped>\n",
       "    .dataframe tbody tr th:only-of-type {\n",
       "        vertical-align: middle;\n",
       "    }\n",
       "\n",
       "    .dataframe tbody tr th {\n",
       "        vertical-align: top;\n",
       "    }\n",
       "\n",
       "    .dataframe thead th {\n",
       "        text-align: right;\n",
       "    }\n",
       "</style>\n",
       "<table border=\"1\" class=\"dataframe\">\n",
       "  <thead>\n",
       "    <tr style=\"text-align: right;\">\n",
       "      <th></th>\n",
       "      <th>Date</th>\n",
       "      <th>Headline</th>\n",
       "    </tr>\n",
       "  </thead>\n",
       "  <tbody>\n",
       "    <tr>\n",
       "      <th>0</th>\n",
       "      <td>2019-05-23</td>\n",
       "      <td>Whitney Holding Corp. Buying Prattville Financial for $40.5M</td>\n",
       "    </tr>\n",
       "    <tr>\n",
       "      <th>1</th>\n",
       "      <td>2019-09-25</td>\n",
       "      <td>Whitney Buying Privately Held First Ascension for $22.1M in Stock</td>\n",
       "    </tr>\n",
       "    <tr>\n",
       "      <th>2</th>\n",
       "      <td>2021-12-02</td>\n",
       "      <td>Whitney completes $22.1M First Ascension purchase</td>\n",
       "    </tr>\n",
       "    <tr>\n",
       "      <th>3</th>\n",
       "      <td>2020-02-05</td>\n",
       "      <td>FNB Corp. Buying First Union Branches in Southwest Virginia</td>\n",
       "    </tr>\n",
       "    <tr>\n",
       "      <th>4</th>\n",
       "      <td>2019-10-11</td>\n",
       "      <td>Compass Buying FirsTier Corp. for $127M in Stock</td>\n",
       "    </tr>\n",
       "    <tr>\n",
       "      <th>5</th>\n",
       "      <td>2020-12-29</td>\n",
       "      <td>Whitney Earnings Up 5% in 3Q at $17.1M</td>\n",
       "    </tr>\n",
       "    <tr>\n",
       "      <th>6</th>\n",
       "      <td>2019-05-21</td>\n",
       "      <td>Allegiant to Buy Equality for $27.17M in Stock</td>\n",
       "    </tr>\n",
       "    <tr>\n",
       "      <th>7</th>\n",
       "      <td>2019-10-08</td>\n",
       "      <td>BB&amp;T Buying FirstSpartan Financial Corp. in $103.9M Stock Swap</td>\n",
       "    </tr>\n",
       "    <tr>\n",
       "      <th>8</th>\n",
       "      <td>2020-12-20</td>\n",
       "      <td>Expected Earnings Releases for Oct. 12</td>\n",
       "    </tr>\n",
       "    <tr>\n",
       "      <th>9</th>\n",
       "      <td>2020-05-08</td>\n",
       "      <td>Capital City Bank Group Agrees to Acquire First Bankshares of West Point</td>\n",
       "    </tr>\n",
       "  </tbody>\n",
       "</table>\n",
       "</div>"
      ],
      "text/plain": [
       "         Date  \\\n",
       "0  2019-05-23   \n",
       "1  2019-09-25   \n",
       "2  2021-12-02   \n",
       "3  2020-02-05   \n",
       "4  2019-10-11   \n",
       "5  2020-12-29   \n",
       "6  2019-05-21   \n",
       "7  2019-10-08   \n",
       "8  2020-12-20   \n",
       "9  2020-05-08   \n",
       "\n",
       "                                                                   Headline  \n",
       "0              Whitney Holding Corp. Buying Prattville Financial for $40.5M  \n",
       "1         Whitney Buying Privately Held First Ascension for $22.1M in Stock  \n",
       "2                         Whitney completes $22.1M First Ascension purchase  \n",
       "3               FNB Corp. Buying First Union Branches in Southwest Virginia  \n",
       "4                          Compass Buying FirsTier Corp. for $127M in Stock  \n",
       "5                                    Whitney Earnings Up 5% in 3Q at $17.1M  \n",
       "6                            Allegiant to Buy Equality for $27.17M in Stock  \n",
       "7            BB&T Buying FirstSpartan Financial Corp. in $103.9M Stock Swap  \n",
       "8                                    Expected Earnings Releases for Oct. 12  \n",
       "9  Capital City Bank Group Agrees to Acquire First Bankshares of West Point  "
      ]
     },
     "execution_count": 20,
     "metadata": {},
     "output_type": "execute_result"
    }
   ],
   "source": [
    "df_rec = recommendations('Whitney Holding Buying American Bank in Houston', model)\n",
    "df_rec.head(10)"
   ]
  }
 ],
 "metadata": {
  "kernelspec": {
   "display_name": "Python 3",
   "language": "python",
   "name": "python3"
  },
  "language_info": {
   "codemirror_mode": {
    "name": "ipython",
    "version": 3
   },
   "file_extension": ".py",
   "mimetype": "text/x-python",
   "name": "python",
   "nbconvert_exporter": "python",
   "pygments_lexer": "ipython3",
   "version": "3.7.1"
  }
 },
 "nbformat": 4,
 "nbformat_minor": 2
}
